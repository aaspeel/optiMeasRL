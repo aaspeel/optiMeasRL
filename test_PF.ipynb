{
 "cells": [
  {
   "cell_type": "code",
   "execution_count": 1,
   "metadata": {},
   "outputs": [],
   "source": [
    "import numpy as np\n",
    "import pylab as pl\n",
    "import matplotlib as mpl\n",
    "import matplotlib.pyplot as plt\n",
    "from matplotlib import pyplot\n",
    "\n",
    "from utils.sequences_treatment import *\n",
    "\n",
    "from utils.particleFilter import *\n",
    "from estimators.particleFilterEstimator import *\n",
    "#from pfExample import *"
   ]
  },
  {
   "cell_type": "code",
   "execution_count": null,
   "metadata": {},
   "outputs": [],
   "source": [
    "T = 50\n",
    "n_samples=3\n",
    "windowSize = T\n",
    "generatorType=\"tumor\"\n",
    "threshold = T\n",
    "\n",
    "seeAction=False\n",
    "seeMeasurement=False\n",
    "seeEstimate=False\n",
    "seeTime=True\n",
    "seeSumAction = True"
   ]
  },
  {
   "cell_type": "code",
   "execution_count": null,
   "metadata": {},
   "outputs": [],
   "source": [
    "#Initialise the particle filter and create random trajectories\n",
    "estimator=ParticleFilterEstimator(T,windowSize,threshold,generatorType=generatorType,seeAction=seeAction,seeMeasurement=seeMeasurement,seeEstimate=seeEstimate,seeTime=seeTime,seeSumAction=seeSumAction)\n",
    "pf = estimator._pf\n",
    "\n",
    "(z,meas,x) = samplePFSequence(pf, T,n_samples)\n",
    "ts = [{\"t\":t} for t in np.linspace(0, T-1, T)]\n",
    "\n",
    "# Corrupt measurements\n",
    "sigmas=randomSigma(T,numberSamples=n_samples,p0=0)\n",
    "meas=corruptSequence_mask(meas,sigmas)"
   ]
  },
  {
   "cell_type": "markdown",
   "metadata": {},
   "source": [
    "## Test PFFilterAll"
   ]
  },
  {
   "cell_type": "code",
   "execution_count": null,
   "metadata": {},
   "outputs": [],
   "source": [
    "# compute estimate using PFFilterAll\n",
    "est_filterAll=PFFilterAll(pf,meas)"
   ]
  },
  {
   "cell_type": "code",
   "execution_count": null,
   "metadata": {},
   "outputs": [],
   "source": [
    "for idx_sample in [0]: #range(n_samples):\n",
    "    pyplot.plot(z[idx_sample,:,:],label='true')\n",
    "    pyplot.plot(est_filterAll[idx_sample,:,:],label='est')\n",
    "    pyplot.legend()\n",
    "    pyplot.show()\n",
    "    \n",
    "MSE_filterAll=np.mean((z-est_filterAll)**2)\n",
    "print(MSE_filterAll)"
   ]
  },
  {
   "cell_type": "markdown",
   "metadata": {},
   "source": [
    "## Test PFFilterOne"
   ]
  },
  {
   "cell_type": "code",
   "execution_count": null,
   "metadata": {},
   "outputs": [],
   "source": [
    "#Test PFFilterOne\n",
    "est_filterOne = np.zeros((n_samples,T,z.shape[2]))\n",
    "\n",
    "for sample_idx in range(n_samples):\n",
    "    pf.init_filter()\n",
    "    for t_idx in range(T):\n",
    "        est_filterOne[sample_idx,t_idx,:] = PFFilterOne(pf,meas[sample_idx,t_idx],ts[t_idx][\"t\"])"
   ]
  },
  {
   "cell_type": "code",
   "execution_count": null,
   "metadata": {},
   "outputs": [],
   "source": [
    "for idx_sample in [0]: #range(n_samples):\n",
    "    pyplot.plot(z[idx_sample,:,:],label='true')\n",
    "    pyplot.plot(est_filterOne[idx_sample,:,:],label='est')\n",
    "    pyplot.legend()\n",
    "    pyplot.show()\n",
    "    \n",
    "MSE_filterOne=np.mean((z-est_filterOne)**2)\n",
    "print(MSE_filterOne)"
   ]
  },
  {
   "cell_type": "markdown",
   "metadata": {},
   "source": [
    "## Test ParticleFilterEstimator - .estimate()"
   ]
  },
  {
   "cell_type": "code",
   "execution_count": null,
   "metadata": {},
   "outputs": [],
   "source": [
    "# construct estimator\n",
    "pf_est = estimator"
   ]
  },
  {
   "cell_type": "code",
   "execution_count": null,
   "metadata": {},
   "outputs": [],
   "source": [
    "est_estimator = np.zeros((n_samples,T,z.shape[2]))\n",
    "for idx_sample in range(n_samples):\n",
    "    pf_est.reset()\n",
    "    for t_idx in range(T):\n",
    "        est_estimator[idx_sample,t_idx,:] = pf_est.estimate(meas[idx_sample,t_idx,:])"
   ]
  },
  {
   "cell_type": "code",
   "execution_count": null,
   "metadata": {},
   "outputs": [],
   "source": [
    "for idx_sample in [0]: #range(n_samples):\n",
    "    pyplot.plot(z[idx_sample,:,:],label='true')\n",
    "    pyplot.plot(est_estimator[idx_sample,:,:],label='est')\n",
    "    pyplot.legend()\n",
    "    pyplot.show()\n",
    "    \n",
    "MSE_estimator=np.mean((z-est_estimator)**2)\n",
    "print(MSE_estimator)"
   ]
  },
  {
   "cell_type": "markdown",
   "metadata": {},
   "source": [
    "## Test ParticleFilterEstimator - .estimateAll()"
   ]
  },
  {
   "cell_type": "code",
   "execution_count": null,
   "metadata": {},
   "outputs": [],
   "source": [
    "est_estimateAll=pf_est.estimateAll(meas)"
   ]
  },
  {
   "cell_type": "code",
   "execution_count": null,
   "metadata": {},
   "outputs": [],
   "source": [
    "for idx_sample in [0]: #range(n_samples):\n",
    "    pyplot.plot(z[idx_sample,:,:],label='true')\n",
    "    pyplot.plot(est_estimateAll[idx_sample,:,:],label='est')\n",
    "    pyplot.legend()\n",
    "    pyplot.show()\n",
    "    \n",
    "MSE_estimateAll=np.mean((z-est_estimateAll)**2)\n",
    "print(MSE_estimateAll)"
   ]
  },
  {
   "cell_type": "code",
   "execution_count": null,
   "metadata": {},
   "outputs": [],
   "source": [
    "est_estimateAll=pf_est.estimateAll(meas)"
   ]
  },
  {
   "cell_type": "code",
   "execution_count": null,
   "metadata": {},
   "outputs": [],
   "source": []
  },
  {
   "cell_type": "code",
   "execution_count": null,
   "metadata": {},
   "outputs": [],
   "source": [
    "pf.n_particles"
   ]
  },
  {
   "cell_type": "code",
   "execution_count": null,
   "metadata": {},
   "outputs": [],
   "source": []
  }
 ],
 "metadata": {
  "kernelspec": {
   "display_name": "Python 3",
   "language": "python",
   "name": "python3"
  },
  "language_info": {
   "codemirror_mode": {
    "name": "ipython",
    "version": 3
   },
   "file_extension": ".py",
   "mimetype": "text/x-python",
   "name": "python",
   "nbconvert_exporter": "python",
   "pygments_lexer": "ipython3",
   "version": "3.6.8"
  }
 },
 "nbformat": 4,
 "nbformat_minor": 2
}
