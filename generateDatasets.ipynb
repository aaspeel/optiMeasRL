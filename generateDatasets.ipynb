{
 "cells": [
  {
   "cell_type": "code",
   "execution_count": 1,
   "metadata": {},
   "outputs": [],
   "source": [
    "#import os\n",
    "#os.environ[\"CUDA_VISIBLE_DEVICES\"]=\"0\"#\"2\""
   ]
  },
  {
   "cell_type": "code",
   "execution_count": 2,
   "metadata": {},
   "outputs": [],
   "source": [
    "# import estimator class\n",
    "from estimators.particleFilterEstimator import ParticleFilterEstimator\n",
    "\n",
    "from utils.sequences_treatment import *\n",
    "from utils.save import *"
   ]
  },
  {
   "cell_type": "code",
   "execution_count": 3,
   "metadata": {},
   "outputs": [],
   "source": [
    "# Set parameters\n",
    "generatorType='tumor' # spring, tumour or benchmark\n",
    "\n",
    "T=12+1\n",
    "threshold=4\n",
    "\n",
    "numberSamples=500\n",
    "\n",
    "windowSize=T"
   ]
  },
  {
   "cell_type": "code",
   "execution_count": 4,
   "metadata": {},
   "outputs": [
    {
     "name": "stdout",
     "output_type": "stream",
     "text": [
      "<class 'utils.pfilter.ParticleFilter'>\n",
      "Particle filter estimator\n",
      "  observationsDimensions: [(2,), (2, 1)]\n",
      "  seeAction= True\n",
      "  seeMeasurement= True\n",
      "  seeEstimate= False\n",
      "  seeTime= False\n",
      "  seeSumAction= False\n"
     ]
    }
   ],
   "source": [
    "# construct PF estimator (can use any generatorType)\n",
    "estimator=ParticleFilterEstimator(T,windowSize,threshold,generatorType)\n",
    "\n",
    "estimator.summarize()"
   ]
  },
  {
   "cell_type": "code",
   "execution_count": 5,
   "metadata": {},
   "outputs": [
    {
     "name": "stdout",
     "output_type": "stream",
     "text": [
      "shape RNN training+validation objectives: (1000, 13, 1)\n",
      "shape RNN training+validation measurements: (1000, 13, 1)\n",
      "shape RNN training+validation inputs: (1000, 13, 2)\n"
     ]
    }
   ],
   "source": [
    "# generate sequences for training the RNN\n",
    "numberSamples_trainRNN=numberSamples\n",
    "T_trainRNN=T\n",
    "\n",
    "(objectives_trainRNN,measurements_trainRNN)=generateSequence(T_trainRNN,generatorType,numberSamples=numberSamples_trainRNN)\n",
    "sigmas_trainRNN=randomSigma(T_trainRNN,numberSamples=numberSamples_trainRNN,p0=1-threshold/windowSize)\n",
    "measurements_corrupted_trainRNN=corruptSequence_outOfRange(measurements_trainRNN,sigmas_trainRNN)\n",
    "inputRNN=np.concatenate((np.expand_dims(sigmas_trainRNN,2),measurements_corrupted_trainRNN),axis=2)\n",
    "\n",
    "print('shape RNN training+validation objectives:',np.shape(objectives_trainRNN))\n",
    "print('shape RNN training+validation measurements:',np.shape(measurements_corrupted_trainRNN))\n",
    "print('shape RNN training+validation inputs:',np.shape(inputRNN))"
   ]
  },
  {
   "cell_type": "code",
   "execution_count": 6,
   "metadata": {},
   "outputs": [
    {
     "name": "stdout",
     "output_type": "stream",
     "text": [
      "shape training objectives: (1000, 13, 1)\n",
      "shape training measurements: (1000, 13, 1)\n"
     ]
    }
   ],
   "source": [
    "# generate sequences for training the agent\n",
    "numberSamples_train=numberSamples\n",
    "T_train=T\n",
    "\n",
    "(objectives_train,measurements_train)=estimator.generateSequence(T_train,numberSamples=numberSamples_train)\n",
    "\n",
    "print('shape training objectives:',np.shape(objectives_train))\n",
    "print('shape training measurements:',np.shape(measurements_train))"
   ]
  },
  {
   "cell_type": "code",
   "execution_count": 7,
   "metadata": {},
   "outputs": [
    {
     "name": "stdout",
     "output_type": "stream",
     "text": [
      "shape validating objectives: (1000, 13, 1)\n",
      "shape validating measurements: (1000, 13, 1)\n"
     ]
    }
   ],
   "source": [
    "# generate sequences for validating the agent\n",
    "numberSamples_valid=numberSamples\n",
    "T_valid=T_train\n",
    "\n",
    "(objectives_valid,measurements_valid)=estimator.generateSequence(T_valid,numberSamples=numberSamples_valid)\n",
    "\n",
    "print('shape validating objectives:',np.shape(objectives_valid))\n",
    "print('shape validating measurements:',np.shape(measurements_valid))"
   ]
  },
  {
   "cell_type": "code",
   "execution_count": 8,
   "metadata": {},
   "outputs": [
    {
     "name": "stdout",
     "output_type": "stream",
     "text": [
      "shape test objectives: (1000, 13, 1)\n",
      "shape test measurements: (1000, 13, 1)\n"
     ]
    }
   ],
   "source": [
    "# generate test data\n",
    "numberSamples_test=numberSamples\n",
    "T_test=T\n",
    "    \n",
    "(objectives_test,measurements_test)=estimator.generateSequence(T_test,numberSamples=numberSamples_test)\n",
    "\n",
    "print('shape test objectives:',np.shape(objectives_test))\n",
    "print('shape test measurements:',np.shape(measurements_test))"
   ]
  },
  {
   "cell_type": "code",
   "execution_count": 9,
   "metadata": {},
   "outputs": [
    {
     "name": "stdout",
     "output_type": "stream",
     "text": [
      "generatorType_dataset\n",
      "T_dataset\n",
      "threshold_dataset\n",
      "numberSamples_dataset\n",
      "windowSize_dataset\n",
      "objectives_trainRNN\n",
      "measurements_corrupted_trainRNN\n",
      "sigmas_trainRNN\n",
      "inputRNN\n",
      "objectives_train\n",
      "measurements_train\n",
      "objectives_valid\n",
      "measurements_valid\n",
      "objectives_test\n",
      "measurements_test\n",
      "dataset saved.\n"
     ]
    }
   ],
   "source": [
    "generatorType_dataset=generatorType\n",
    "T_dataset=T\n",
    "threshold_dataset=threshold\n",
    "numberSamples_dataset=numberSamples\n",
    "windowSize_dataset=windowSize\n",
    "\n",
    "toSave=[\"generatorType_dataset\",\"T_dataset\",\"threshold_dataset\",\"numberSamples_dataset\",\"windowSize_dataset\"]\n",
    "toSave.extend([\"objectives_trainRNN\",\"measurements_corrupted_trainRNN\",\"sigmas_trainRNN\",\"inputRNN\"])\n",
    "toSave.extend([\"objectives_train\",\"measurements_train\"])\n",
    "toSave.extend([\"objectives_valid\",\"measurements_valid\"])\n",
    "toSave.extend([\"objectives_test\",\"measurements_test\"])\n",
    "\n",
    "pickle_save('datasets/'+generatorType+'1000', toSave , globals())\n",
    "print(\"dataset saved.\")"
   ]
  },
  {
   "cell_type": "code",
   "execution_count": null,
   "metadata": {},
   "outputs": [],
   "source": []
  },
  {
   "cell_type": "code",
   "execution_count": null,
   "metadata": {},
   "outputs": [],
   "source": []
  },
  {
   "cell_type": "code",
   "execution_count": null,
   "metadata": {},
   "outputs": [],
   "source": []
  }
 ],
 "metadata": {
  "kernelspec": {
   "display_name": "Python 3",
   "language": "python",
   "name": "python3"
  },
  "language_info": {
   "codemirror_mode": {
    "name": "ipython",
    "version": 3
   },
   "file_extension": ".py",
   "mimetype": "text/x-python",
   "name": "python",
   "nbconvert_exporter": "python",
   "pygments_lexer": "ipython3",
   "version": "3.6.8"
  }
 },
 "nbformat": 4,
 "nbformat_minor": 4
}
