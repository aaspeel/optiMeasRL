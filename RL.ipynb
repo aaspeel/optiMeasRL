{
 "cells": [
  {
   "cell_type": "code",
   "execution_count": 1,
   "metadata": {},
   "outputs": [],
   "source": [
    "#import os\n",
    "#os.environ[\"CUDA_VISIBLE_DEVICES\"]=\"0\"#\"2\""
   ]
  },
  {
   "cell_type": "code",
   "execution_count": 2,
   "metadata": {},
   "outputs": [
    {
     "name": "stderr",
     "output_type": "stream",
     "text": [
      "Using TensorFlow backend.\n",
      "/Users/antoine/anaconda3/lib/python3.6/site-packages/tensorflow/python/framework/dtypes.py:526: FutureWarning: Passing (type, 1) or '1type' as a synonym of type is deprecated; in a future version of numpy, it will be understood as (type, (1,)) / '(1,)type'.\n",
      "  _np_qint8 = np.dtype([(\"qint8\", np.int8, 1)])\n",
      "/Users/antoine/anaconda3/lib/python3.6/site-packages/tensorflow/python/framework/dtypes.py:527: FutureWarning: Passing (type, 1) or '1type' as a synonym of type is deprecated; in a future version of numpy, it will be understood as (type, (1,)) / '(1,)type'.\n",
      "  _np_quint8 = np.dtype([(\"quint8\", np.uint8, 1)])\n",
      "/Users/antoine/anaconda3/lib/python3.6/site-packages/tensorflow/python/framework/dtypes.py:528: FutureWarning: Passing (type, 1) or '1type' as a synonym of type is deprecated; in a future version of numpy, it will be understood as (type, (1,)) / '(1,)type'.\n",
      "  _np_qint16 = np.dtype([(\"qint16\", np.int16, 1)])\n",
      "/Users/antoine/anaconda3/lib/python3.6/site-packages/tensorflow/python/framework/dtypes.py:529: FutureWarning: Passing (type, 1) or '1type' as a synonym of type is deprecated; in a future version of numpy, it will be understood as (type, (1,)) / '(1,)type'.\n",
      "  _np_quint16 = np.dtype([(\"quint16\", np.uint16, 1)])\n",
      "/Users/antoine/anaconda3/lib/python3.6/site-packages/tensorflow/python/framework/dtypes.py:530: FutureWarning: Passing (type, 1) or '1type' as a synonym of type is deprecated; in a future version of numpy, it will be understood as (type, (1,)) / '(1,)type'.\n",
      "  _np_qint32 = np.dtype([(\"qint32\", np.int32, 1)])\n",
      "/Users/antoine/anaconda3/lib/python3.6/site-packages/tensorflow/python/framework/dtypes.py:535: FutureWarning: Passing (type, 1) or '1type' as a synonym of type is deprecated; in a future version of numpy, it will be understood as (type, (1,)) / '(1,)type'.\n",
      "  np_resource = np.dtype([(\"resource\", np.ubyte, 1)])\n"
     ]
    }
   ],
   "source": [
    "# import estimator class\n",
    "from estimators.rnnEstimator import RnnEstimator\n",
    "from estimators.kalmanEstimator import KalmanEstimator\n",
    "\n",
    "#import rewarder class\n",
    "from rewarders.thresholdRewarder import ThresholdRewarder\n",
    "\n",
    "from matplotlib import pyplot\n",
    "from utils.sequences_treatment import *\n",
    "from utils.agent_treatment import *\n",
    "\n",
    "# import functions from Keras for the RNN\n",
    "from keras.models import Sequential, load_model\n",
    "from keras.layers import Dense, LSTM, SimpleRNN#, Dropout, Embedding, Masking, Bidirectional\n",
    "from keras.optimizers import Adam"
   ]
  },
  {
   "cell_type": "code",
   "execution_count": 3,
   "metadata": {},
   "outputs": [],
   "source": [
    "# Set parameters\n",
    "estimatorType='kalman' # kalman or rnn\n",
    "seeAction=True\n",
    "seeMeasurement=False\n",
    "seeEstimate=False\n",
    "T=12"
   ]
  },
  {
   "cell_type": "code",
   "execution_count": 4,
   "metadata": {
    "scrolled": true
   },
   "outputs": [
    {
     "name": "stdout",
     "output_type": "stream",
     "text": [
      "Done\n"
     ]
    }
   ],
   "source": [
    "if estimatorType=='rnn':\n",
    "    # construct and train a Sequential RNN model with keras\n",
    "    numberSamples_trainRNN=1000\n",
    "    T_trainRNN=T\n",
    "    generatorType='random01'\n",
    "\n",
    "    # generate sequences for training\n",
    "    (objectives_trainRNN,measurements_trainRNN)=generateSequence(T_trainRNN,numberSamples=numberSamples_trainRNN,generatorType=generatorType)\n",
    "    sigmas_trainRNN=randomSigma(T_trainRNN,numberSamples=numberSamples_trainRNN,p0=0.3)\n",
    "    measurements_corrupted_trainRNN=corruptSequence_outOfRange(measurements_trainRNN,sigmas_trainRNN)\n",
    "\n",
    "    n_dim_meas=np.shape(measurements_corrupted_trainRNN)[2]\n",
    "    n_dim_obj=np.shape(objectives_trainRNN)[2]\n",
    "\n",
    "    model=Sequential()\n",
    "    model.add(LSTM(20,input_shape=(None,n_dim_meas),return_sequences=True))\n",
    "    model.add(LSTM(20,return_sequences=True))\n",
    "    model.add(Dense(n_dim_obj,activation=None))\n",
    "\n",
    "    model.compile(optimizer='adam',loss='mean_squared_error')\n",
    "    model.summary()\n",
    "\n",
    "    # train the RNN\n",
    "    history=model.fit(x=measurements_corrupted_trainRNN,y=objectives_trainRNN,batch_size=1,epochs=5,validation_split=0.2,verbose=2)\n",
    "\n",
    "    # plot loss\n",
    "    plotRNNresults(history)\n",
    "print('Done')"
   ]
  },
  {
   "cell_type": "code",
   "execution_count": 5,
   "metadata": {},
   "outputs": [
    {
     "name": "stdout",
     "output_type": "stream",
     "text": [
      "Done\n"
     ]
    }
   ],
   "source": [
    "if estimatorType=='rnn':\n",
    "    idx_sample=0\n",
    "    estimates_trainRNN=model.predict(measurements_corrupted_trainRNN[idx_sample:(idx_sample+1),:,:])\n",
    "    plotErrors(objectives_trainRNN, estimates_trainRNN, sigmas_trainRNN,idx_sample=idx_sample)\n",
    "print('Done')"
   ]
  },
  {
   "cell_type": "code",
   "execution_count": 6,
   "metadata": {},
   "outputs": [
    {
     "name": "stdout",
     "output_type": "stream",
     "text": [
      "Kalman estimator\n",
      "observationsDimensions: [(5,)]\n",
      "seeAction= True\n",
      "seeMeasurement= False\n",
      "seeEstimate= False\n",
      "seeCovariance= False\n",
      "threshold rewarder\n",
      "window size: 4\n",
      "threshold: 2\n",
      "cost: 5000\n",
      "number of measures in the window: 0\n"
     ]
    }
   ],
   "source": [
    "# construct estimator\n",
    "if estimatorType=='rnn':\n",
    "    estimator=RnnEstimator(model,generatorType,seeAction=seeAction,seeMeasurement=seeMeasurement,seeEstimate=seeEstimate)\n",
    "elif estimatorType=='kalman':\n",
    "    estimator=KalmanEstimator(seeAction=seeAction,seeMeasurement=seeMeasurement,seeEstimate=seeEstimate)\n",
    "else:\n",
    "    print('ERROR: no valid estimatorType')\n",
    "    \n",
    "estimator.summarize()\n",
    "\n",
    "# contruct rewarder\n",
    "rewarder=ThresholdRewarder(threshold=2, cost=5000, windowSize=4)\n",
    "rewarder.summarize()"
   ]
  },
  {
   "cell_type": "code",
   "execution_count": 7,
   "metadata": {},
   "outputs": [
    {
     "name": "stdout",
     "output_type": "stream",
     "text": [
      "shape objectives: (100, 12, 1)\n",
      "shape measurements: (100, 12, 1)\n"
     ]
    }
   ],
   "source": [
    "# generate sequences for training the agent\n",
    "numberSamples_trainAgent=100\n",
    "T_trainAgent=T\n",
    "\n",
    "(objectives_trainAgent,measurements_trainAgent)=estimator.generateSequence(T_trainAgent,numberSamples=numberSamples_trainAgent)\n",
    "\n",
    "print('shape objectives:',np.shape(objectives_trainAgent))\n",
    "print('shape measurements:',np.shape(measurements_trainAgent))"
   ]
  },
  {
   "cell_type": "code",
   "execution_count": 8,
   "metadata": {},
   "outputs": [
    {
     "name": "stdout",
     "output_type": "stream",
     "text": [
      "Environment parameters\n",
      "  REWARDER= <rewarders.thresholdRewarder.ThresholdRewarder object at 0xb409340b8>\n",
      "  inputDimensions= [(5,)]\n",
      "Sequences parameters\n",
      "  outOfRangeValue= -1\n",
      "  numerSamples= 100\n",
      "  n_dim_obj= 1\n",
      "  n_dim_meas= 1\n",
      "WARNING:tensorflow:From /Users/antoine/anaconda3/lib/python3.6/site-packages/tensorflow/python/framework/op_def_library.py:263: colocate_with (from tensorflow.python.framework.ops) is deprecated and will be removed in a future version.\n",
      "Instructions for updating:\n",
      "Colocations handled automatically by placer.\n",
      "Agent constructed\n"
     ]
    }
   ],
   "source": [
    "# construct agent\n",
    "agent=constructAgent(estimator,rewarder,objectives_trainAgent,measurements_trainAgent)\n",
    "print('Agent constructed')"
   ]
  },
  {
   "cell_type": "code",
   "execution_count": 9,
   "metadata": {
    "scrolled": true
   },
   "outputs": [
    {
     "name": "stdout",
     "output_type": "stream",
     "text": [
      "WARNING:tensorflow:From /Users/antoine/anaconda3/lib/python3.6/site-packages/tensorflow/python/ops/math_ops.py:3066: to_int32 (from tensorflow.python.ops.math_ops) is deprecated and will be removed in a future version.\n",
      "Instructions for updating:\n",
      "Use tf.cast instead.\n",
      "Average (on the epoch) training loss: 1831.802490234375\n",
      "Episode average V value: -0.23917202651500702\n",
      "Average (on the epoch) training loss: 1875.841064453125\n",
      "Episode average V value: -0.7815003879368305\n",
      "Average (on the epoch) training loss: 1643.508544921875\n",
      "Episode average V value: -3.920539140701294\n",
      "Average (on the epoch) training loss: 1542.9713134765625\n",
      "Episode average V value: -14.316889683405558\n",
      "Average (on the epoch) training loss: 1511.7269287109375\n",
      "Episode average V value: -41.46965789794922\n",
      "Average (on the epoch) training loss: 1456.4505615234375\n",
      "Episode average V value: -100.91005290638317\n",
      "Average (on the epoch) training loss: 1385.4736328125\n",
      "Episode average V value: -230.0790252685547\n",
      "Average (on the epoch) training loss: 1322.6778564453125\n",
      "Episode average V value: -339.5011393229167\n",
      "Average (on the epoch) training loss: 1273.10205078125\n",
      "Episode average V value: -605.7660522460938\n",
      "Average (on the epoch) training loss: 1213.5184326171875\n",
      "Episode average V value: -629.4012349446615\n",
      "Average (on the epoch) training loss: 1176.5047607421875\n",
      "Episode average V value: -722.8309275309244\n",
      "Average (on the epoch) training loss: 1135.1666259765625\n",
      "Episode average V value: -700.3650512695312\n",
      "Average (on the epoch) training loss: 1101.2547607421875\n",
      "Episode average V value: -608.5884857177734\n",
      "Average (on the epoch) training loss: 1073.7015380859375\n",
      "Episode average V value: -703.897705078125\n",
      "Average (on the epoch) training loss: 1054.849853515625\n",
      "Episode average V value: -730.6887817382812\n",
      "Average (on the epoch) training loss: 1034.8807373046875\n",
      "Episode average V value: -787.2795817057291\n",
      "Average (on the epoch) training loss: 1021.5601196289062\n",
      "Episode average V value: -793.0018513997396\n",
      "Average (on the epoch) training loss: 1005.6448974609375\n",
      "Episode average V value: -798.4215698242188\n",
      "Average (on the epoch) training loss: 989.7127075195312\n",
      "Episode average V value: -778.9884643554688\n",
      "Average (on the epoch) training loss: 976.7461547851562\n",
      "Episode average V value: -752.0358276367188\n",
      "Average (on the epoch) training loss: 965.1428833007812\n",
      "Episode average V value: -742.8533325195312\n",
      "Average (on the epoch) training loss: 954.4429931640625\n",
      "Episode average V value: -771.5060979669744\n",
      "Average (on the epoch) training loss: 946.1488037109375\n",
      "Episode average V value: -787.2249145507812\n",
      "Average (on the epoch) training loss: 940.643798828125\n",
      "Episode average V value: -1470.4136962890625\n",
      "Average (on the epoch) training loss: 938.120361328125\n",
      "Episode average V value: -777.0269419352213\n",
      "Average (on the epoch) training loss: 933.3013305664062\n",
      "Episode average V value: -888.5537719726562\n",
      "Average (on the epoch) training loss: 928.4111328125\n",
      "Episode average V value: -679.362227006392\n",
      "Average (on the epoch) training loss: 924.0747680664062\n",
      "Episode average V value: -623.0280928178267\n",
      "Average (on the epoch) training loss: 923.735595703125\n",
      "Episode average V value: -751.0209350585938\n",
      "Average (on the epoch) training loss: 923.5813598632812\n",
      "Episode average V value: -685.0300496419271\n",
      "Average (on the epoch) training loss: 920.986572265625\n",
      "Episode average V value: -725.7981567382812\n",
      "Average (on the epoch) training loss: 919.0712280273438\n",
      "Episode average V value: -735.8372395833334\n",
      "Average (on the epoch) training loss: 920.8746948242188\n",
      "Episode average V value: -668.2706909179688\n",
      "Average (on the epoch) training loss: 921.8406372070312\n",
      "Episode average V value: -601.89794921875\n",
      "Average (on the epoch) training loss: 922.4448852539062\n",
      "Episode average V value: -672.4445190429688\n",
      "Average (on the epoch) training loss: 920.297119140625\n",
      "Episode average V value: -623.9212036132812\n",
      "Average (on the epoch) training loss: 919.7338256835938\n",
      "Episode average V value: -661.8911410245029\n",
      "Average (on the epoch) training loss: 919.6492309570312\n",
      "Episode average V value: -600.2641379616477\n",
      "Average (on the epoch) training loss: 921.6657104492188\n",
      "Episode average V value: -812.926513671875\n",
      "Average (on the epoch) training loss: 920.7245483398438\n",
      "Episode average V value: -633.7061869303385\n",
      "Average (on the epoch) training loss: 918.0526123046875\n",
      "Episode average V value: -716.5104370117188\n",
      "Average (on the epoch) training loss: 918.4599609375\n",
      "Episode average V value: -684.7116190592448\n",
      "Average (on the epoch) training loss: 919.000244140625\n",
      "Episode average V value: -816.3816172281901\n",
      "Average (on the epoch) training loss: 920.2208862304688\n",
      "Episode average V value: -773.0266723632812\n",
      "Average (on the epoch) training loss: 919.6092529296875\n",
      "Episode average V value: -817.8984985351562\n",
      "Average (on the epoch) training loss: 918.3086547851562\n",
      "Episode average V value: -716.9810434977213\n",
      "Average (on the epoch) training loss: 918.6991577148438\n",
      "Episode average V value: -635.2838195800781\n",
      "Average (on the epoch) training loss: 918.6190795898438\n",
      "Episode average V value: -796.7556762695312\n",
      "Average (on the epoch) training loss: 918.4268798828125\n",
      "Episode average V value: -693.4866333007812\n",
      "Average (on the epoch) training loss: 918.2386474609375\n",
      "Episode average V value: -637.226308186849\n",
      "Average (on the epoch) training loss: 918.4732055664062\n",
      "Episode average V value: -722.308837890625\n",
      "Average (on the epoch) training loss: 919.2498168945312\n",
      "Episode average V value: -653.5543314615885\n",
      "Average (on the epoch) training loss: 919.0238647460938\n",
      "Episode average V value: -685.0375620524088\n",
      "Average (on the epoch) training loss: 918.5322875976562\n",
      "Episode average V value: -690.093516031901\n",
      "Average (on the epoch) training loss: 919.0601196289062\n",
      "Episode average V value: -814.6609497070312\n",
      "Average (on the epoch) training loss: 918.9593505859375\n",
      "Episode average V value: -966.2271118164062\n",
      "Average (on the epoch) training loss: 917.5820922851562\n",
      "Episode average V value: -742.0266723632812\n",
      "Average (on the epoch) training loss: 919.2420654296875\n",
      "Episode average V value: -648.0277760823568\n",
      "Average (on the epoch) training loss: 918.7951049804688\n",
      "Episode average V value: -906.971689860026\n",
      "Average (on the epoch) training loss: 919.0574340820312\n",
      "Episode average V value: -729.6503295898438\n",
      "Average (on the epoch) training loss: 919.2950439453125\n",
      "Episode average V value: -779.7001749674479\n",
      "Average (on the epoch) training loss: 918.505859375\n",
      "Episode average V value: -699.6690165201823\n",
      "Average (on the epoch) training loss: 917.9624633789062\n",
      "Episode average V value: -772.5628662109375\n",
      "Average (on the epoch) training loss: 916.9449462890625\n",
      "Episode average V value: -663.8392486572266\n",
      "Average (on the epoch) training loss: 915.1649169921875\n",
      "Episode average V value: -636.6763153076172\n",
      "Average (on the epoch) training loss: 915.9761962890625\n",
      "Episode average V value: -692.9974060058594\n",
      "Average (on the epoch) training loss: 915.6262817382812\n",
      "Episode average V value: -876.0950164794922\n",
      "Average (on the epoch) training loss: 916.226806640625\n",
      "Episode average V value: -834.9222190163352\n",
      "Average (on the epoch) training loss: 915.1471557617188\n",
      "Episode average V value: -781.1255493164062\n",
      "Average (on the epoch) training loss: 914.2529296875\n",
      "Episode average V value: -585.7421671549479\n",
      "Average (on the epoch) training loss: 914.4410400390625\n",
      "Episode average V value: -734.3791300455729\n",
      "Average (on the epoch) training loss: 914.8150634765625\n",
      "Episode average V value: -673.4670104980469\n",
      "Average (on the epoch) training loss: 915.9202270507812\n",
      "Episode average V value: -838.1492919921875\n",
      "Average (on the epoch) training loss: 915.9198608398438\n",
      "Episode average V value: -879.0970458984375\n",
      "Average (on the epoch) training loss: 917.1256103515625\n",
      "Episode average V value: -824.833984375\n",
      "Average (on the epoch) training loss: 916.6927490234375\n",
      "Episode average V value: -808.4546559651693\n",
      "Average (on the epoch) training loss: 915.7491455078125\n",
      "Episode average V value: -1110.1589457194011\n",
      "Average (on the epoch) training loss: 916.6640625\n",
      "Episode average V value: -933.6859741210938\n",
      "Average (on the epoch) training loss: 917.3770141601562\n",
      "Episode average V value: -783.8937784830729\n",
      "Average (on the epoch) training loss: 916.6732177734375\n",
      "Episode average V value: -890.95703125\n"
     ]
    },
    {
     "name": "stdout",
     "output_type": "stream",
     "text": [
      "Average (on the epoch) training loss: 917.1838989257812\n",
      "Episode average V value: -1253.8096211751301\n",
      "Average (on the epoch) training loss: 917.1896362304688\n",
      "Episode average V value: -1512.5428744229403\n",
      "Average (on the epoch) training loss: 917.7141723632812\n",
      "Episode average V value: -692.22021484375\n",
      "Average (on the epoch) training loss: 917.367919921875\n",
      "Episode average V value: -780.5860315958658\n",
      "Average (on the epoch) training loss: 918.1734008789062\n",
      "Episode average V value: -1359.1072998046875\n",
      "Average (on the epoch) training loss: 917.464599609375\n",
      "Episode average V value: -1028.5008036295574\n",
      "Average (on the epoch) training loss: 918.0779418945312\n",
      "Episode average V value: -1237.3875732421875\n",
      "Average (on the epoch) training loss: 918.1605224609375\n",
      "Episode average V value: -1013.8475341796875\n",
      "Average (on the epoch) training loss: 917.573486328125\n",
      "Episode average V value: -1375.995361328125\n",
      "Average (on the epoch) training loss: 917.4520263671875\n",
      "Episode average V value: -1327.92431640625\n",
      "Average (on the epoch) training loss: 917.3701782226562\n",
      "Episode average V value: -1151.716344197591\n",
      "Average (on the epoch) training loss: 917.5673217773438\n",
      "Episode average V value: -1482.7750244140625\n",
      "Average (on the epoch) training loss: 917.5341186523438\n",
      "Episode average V value: -1478.42138671875\n",
      "Average (on the epoch) training loss: 916.34814453125\n",
      "Episode average V value: -973.3420893351237\n",
      "Average (on the epoch) training loss: 915.85400390625\n",
      "Episode average V value: -1176.9213155110676\n",
      "Average (on the epoch) training loss: 915.7169799804688\n",
      "Episode average V value: -954.6018625895182\n",
      "Average (on the epoch) training loss: 915.7215576171875\n",
      "Episode average V value: -1390.15576171875\n",
      "Average (on the epoch) training loss: 914.2905883789062\n",
      "Episode average V value: -916.7676264444987\n",
      "Average (on the epoch) training loss: 914.124267578125\n",
      "Episode average V value: -1313.7147216796875\n",
      "Average (on the epoch) training loss: 912.884521484375\n",
      "Episode average V value: -891.040101369222\n",
      "epoch 1:\n",
      "Learning rate: 0.005\n",
      "Discount factor: 0.9\n",
      "Epsilon: 0.1\n",
      "Average (on the epoch) training loss: 912.9082641601562\n",
      "Episode average V value: -1257.0826416015625\n",
      "epoch 2:\n",
      "Learning rate: 0.005\n",
      "Discount factor: 0.9\n",
      "Epsilon: 0.1\n",
      "Average (on the epoch) training loss: 865.5629272460938\n",
      "Episode average V value: -1350.46337890625\n",
      "epoch 3:\n",
      "Learning rate: 0.005\n",
      "Discount factor: 0.9\n",
      "Epsilon: 0.1\n",
      "Average (on the epoch) training loss: 1214.140625\n",
      "Episode average V value: -1410.971435546875\n",
      "epoch 4:\n",
      "Learning rate: 0.005\n",
      "Discount factor: 0.9\n",
      "Epsilon: 0.1\n",
      "Average (on the epoch) training loss: 690.8147583007812\n",
      "Episode average V value: -1487.0284423828125\n",
      "Agent Trained\n"
     ]
    }
   ],
   "source": [
    "# Train agent\n",
    "agent.run(n_epochs=4, epoch_length=numberSamples_trainAgent*T_trainAgent)\n",
    "print('Agent Trained')"
   ]
  },
  {
   "cell_type": "code",
   "execution_count": 10,
   "metadata": {
    "scrolled": true
   },
   "outputs": [
    {
     "name": "stdout",
     "output_type": "stream",
     "text": [
      "Average (on the epoch) training loss: 831.9815673828125\n",
      "Episode average V value: -1453.56005859375\n",
      "Average (on the epoch) training loss: 846.2500610351562\n",
      "Episode average V value: -1345.9720458984375\n",
      "Average (on the epoch) training loss: 865.177978515625\n",
      "Episode average V value: -1453.6956787109375\n",
      "Average (on the epoch) training loss: 856.0276489257812\n",
      "Episode average V value: -1421.59326171875\n",
      "Average (on the epoch) training loss: 859.7017211914062\n",
      "Episode average V value: -1432.21337890625\n",
      "Average (on the epoch) training loss: 860.0498046875\n",
      "Episode average V value: -1508.3480224609375\n",
      "Average (on the epoch) training loss: 854.1070556640625\n",
      "Episode average V value: -1415.4415283203125\n",
      "Average (on the epoch) training loss: 850.5165405273438\n",
      "Episode average V value: -1464.9527587890625\n",
      "Average (on the epoch) training loss: 845.943115234375\n",
      "Episode average V value: -1393.9989013671875\n",
      "Average (on the epoch) training loss: 852.2882080078125\n",
      "Episode average V value: -1522.88134765625\n"
     ]
    }
   ],
   "source": [
    "# generate test data\n",
    "numberSamples_test=10\n",
    "T_test=T\n",
    "(objectives_test,measurements_test)=estimator.generateSequence(T_test,numberSamples=numberSamples_test)\n",
    "\n",
    "# Results of the inference on test data\n",
    "(sigmas_test,rewards_test,estimates_test)=agentInference(agent,objectives_test,measurements_test)"
   ]
  },
  {
   "cell_type": "code",
   "execution_count": 11,
   "metadata": {},
   "outputs": [
    {
     "data": {
      "image/png": "[encoded data removed]",
      "text/plain": [
       "<Figure size 432x288 with 1 Axes>"
      ]
     },
     "metadata": {
      "needs_background": "light"
     },
     "output_type": "display_data"
    },
    {
     "data": {
      "image/png": "[encoded data removed]",
      "text/plain": [
       "<Figure size 432x288 with 1 Axes>"
      ]
     },
     "metadata": {
      "needs_background": "light"
     },
     "output_type": "display_data"
    }
   ],
   "source": [
    "idx_sample=0\n",
    "plotErrors(objectives_test,estimates_test,sigmas_test,idx_sample=idx_sample)"
   ]
  },
  {
   "cell_type": "code",
   "execution_count": null,
   "metadata": {},
   "outputs": [],
   "source": []
  },
  {
   "cell_type": "code",
   "execution_count": null,
   "metadata": {},
   "outputs": [],
   "source": []
  },
  {
   "cell_type": "code",
   "execution_count": 12,
   "metadata": {},
   "outputs": [
    {
     "data": {
      "text/plain": [
       "{'_batch_dimensions': [(5,)],\n",
       " '_max_history_size': 5,\n",
       " '_size': 1000000,\n",
       " '_use_priority': False,\n",
       " '_only_full_history': True,\n",
       " '_actions': <deer.agent.CircularBuffer at 0xb45d5e128>,\n",
       " '_rewards': <deer.agent.CircularBuffer at 0xb43a8ac88>,\n",
       " '_terminals': <deer.agent.CircularBuffer at 0xb459ad5c0>,\n",
       " '_observations': array([<deer.agent.CircularBuffer object at 0xb45da9c50>], dtype=object),\n",
       " '_random_state': RandomState(MT19937) at 0xB4094F150,\n",
       " 'n_elems': 120,\n",
       " 'sticky_action': 1}"
      ]
     },
     "execution_count": 12,
     "metadata": {},
     "output_type": "execute_result"
    }
   ],
   "source": [
    "agent._tmp_dataset.__dict__"
   ]
  },
  {
   "cell_type": "code",
   "execution_count": null,
   "metadata": {},
   "outputs": [],
   "source": []
  }
 ],
 "metadata": {
  "kernelspec": {
   "display_name": "Python 3",
   "language": "python",
   "name": "python3"
  },
  "language_info": {
   "codemirror_mode": {
    "name": "ipython",
    "version": 3
   },
   "file_extension": ".py",
   "mimetype": "text/x-python",
   "name": "python",
   "nbconvert_exporter": "python",
   "pygments_lexer": "ipython3",
   "version": "3.6.8"
  }
 },
 "nbformat": 4,
 "nbformat_minor": 4
}
