{
 "cells": [
  {
   "cell_type": "code",
   "execution_count": 1,
   "metadata": {},
   "outputs": [],
   "source": [
    "#import os\n",
    "#os.environ[\"CUDA_VISIBLE_DEVICES\"]=\"0\"#\"2\""
   ]
  },
  {
   "cell_type": "code",
   "execution_count": 1,
   "metadata": {},
   "outputs": [
    {
     "name": "stderr",
     "output_type": "stream",
     "text": [
      "/Users/antoine/anaconda3/lib/python3.6/site-packages/tensorflow/python/framework/dtypes.py:526: FutureWarning: Passing (type, 1) or '1type' as a synonym of type is deprecated; in a future version of numpy, it will be understood as (type, (1,)) / '(1,)type'.\n",
      "  _np_qint8 = np.dtype([(\"qint8\", np.int8, 1)])\n",
      "/Users/antoine/anaconda3/lib/python3.6/site-packages/tensorflow/python/framework/dtypes.py:527: FutureWarning: Passing (type, 1) or '1type' as a synonym of type is deprecated; in a future version of numpy, it will be understood as (type, (1,)) / '(1,)type'.\n",
      "  _np_quint8 = np.dtype([(\"quint8\", np.uint8, 1)])\n",
      "/Users/antoine/anaconda3/lib/python3.6/site-packages/tensorflow/python/framework/dtypes.py:528: FutureWarning: Passing (type, 1) or '1type' as a synonym of type is deprecated; in a future version of numpy, it will be understood as (type, (1,)) / '(1,)type'.\n",
      "  _np_qint16 = np.dtype([(\"qint16\", np.int16, 1)])\n",
      "/Users/antoine/anaconda3/lib/python3.6/site-packages/tensorflow/python/framework/dtypes.py:529: FutureWarning: Passing (type, 1) or '1type' as a synonym of type is deprecated; in a future version of numpy, it will be understood as (type, (1,)) / '(1,)type'.\n",
      "  _np_quint16 = np.dtype([(\"quint16\", np.uint16, 1)])\n",
      "/Users/antoine/anaconda3/lib/python3.6/site-packages/tensorflow/python/framework/dtypes.py:530: FutureWarning: Passing (type, 1) or '1type' as a synonym of type is deprecated; in a future version of numpy, it will be understood as (type, (1,)) / '(1,)type'.\n",
      "  _np_qint32 = np.dtype([(\"qint32\", np.int32, 1)])\n",
      "/Users/antoine/anaconda3/lib/python3.6/site-packages/tensorflow/python/framework/dtypes.py:535: FutureWarning: Passing (type, 1) or '1type' as a synonym of type is deprecated; in a future version of numpy, it will be understood as (type, (1,)) / '(1,)type'.\n",
      "  np_resource = np.dtype([(\"resource\", np.ubyte, 1)])\n",
      "Using TensorFlow backend.\n"
     ]
    }
   ],
   "source": [
    "# import estimator class\n",
    "from estimators.rnnEstimator import RnnEstimator\n",
    "from estimators.kalmanEstimator import KalmanEstimator\n",
    "from estimators.particleFilterEstimator import ParticleFilterEstimator\n",
    "\n",
    "#import rewarder class\n",
    "from rewarders.thresholdRewarder import ThresholdRewarder\n",
    "\n",
    "from matplotlib import pyplot\n",
    "from utils.sequences_treatment import *\n",
    "from utils.agent_treatment import *\n",
    "from utils.plots import *\n",
    "from utils.save import *\n",
    "\n",
    "# import functions from Keras for the RNN\n",
    "from keras.models import Sequential, load_model\n",
    "from keras.layers import Input, Dense, LSTM, SimpleRNN#, Dropout, Embedding, Masking, Bidirectional\n",
    "from keras.optimizers import Adam"
   ]
  },
  {
   "cell_type": "code",
   "execution_count": 2,
   "metadata": {
    "scrolled": false
   },
   "outputs": [
    {
     "name": "stdout",
     "output_type": "stream",
     "text": [
      "meanReward_test\n",
      "measurements_valid\n",
      "rewards_regular\n",
      "objectives_train\n",
      "seeTime\n",
      "threshold\n",
      "numberSamples_valid\n",
      "objectives_test\n",
      "estimates_test\n",
      "seeSumAction\n",
      "T_train\n",
      "windowSize\n",
      "T_test\n",
      "T\n",
      "meanReward_valid\n",
      "sigmas_regular\n",
      "measurements_train\n",
      "rewards_test\n",
      "measurements_test\n",
      "seeEstimate\n",
      "cost\n",
      "estimatorType\n",
      "seeAction\n",
      "numberSamples_train\n",
      "objectives_valid\n",
      "estimates_regular\n",
      "numberMeasurements\n",
      "seeMeasurement\n",
      "T_valid\n",
      "sigmas_test\n",
      "Wokspace loaded.\n"
     ]
    }
   ],
   "source": [
    "# Facultatively load a workspace\n",
    "workspace_path='workspaces/time_triggered' # None or workspace_path (workspaces/...)\n",
    "\n",
    "if workspace_path is not None:\n",
    "    load_workspace(workspace_path, globals())\n",
    "    print('Wokspace loaded.')\n",
    "else:\n",
    "    print('No workspace loaded.')"
   ]
  },
  {
   "cell_type": "code",
   "execution_count": 3,
   "metadata": {},
   "outputs": [
    {
     "name": "stdout",
     "output_type": "stream",
     "text": [
      "cost= 50\n"
     ]
    }
   ],
   "source": [
    "# Set parameters\n",
    "estimatorType='kalman' # kalman, particle or rnn\n",
    "generatorType='spring' # spring, tumour or benchmark\n",
    "seeAction=False\n",
    "seeMeasurement=True\n",
    "seeEstimate=False\n",
    "seeTime=True\n",
    "seeSumAction=True\n",
    "\n",
    "T=12+1\n",
    "\n",
    "threshold=4\n",
    "windowSize=T\n",
    "\n",
    "\n",
    "if estimatorType=='kalman':\n",
    "    cost=50 # tumor_benchmark: 0 < cost=? < ?   classic_benchmark: 0 < cost=50 < 100\n",
    "elif estimatorType=='particle':\n",
    "    if seeMeasurement:\n",
    "        cost=1000 \n",
    "    else:\n",
    "        cost=1000 # 0 < cost=? < 1000\n",
    "elif estimatorType=='rnn':\n",
    "    cost=500\n",
    "print(\"cost=\",cost)"
   ]
  },
  {
   "cell_type": "code",
   "execution_count": 4,
   "metadata": {
    "scrolled": true
   },
   "outputs": [
    {
     "name": "stdout",
     "output_type": "stream",
     "text": [
      "Done\n"
     ]
    }
   ],
   "source": [
    "if estimatorType=='rnn' and 'model' not in dir(): # if a RNN model has not been loaded\n",
    "    # construct and train a Sequential RNN model with keras\n",
    "    numberSamples_trainRNN=500\n",
    "    T_trainRNN=T\n",
    "    generatorType='linear'#'linear'\n",
    "\n",
    "    # generate sequences for training\n",
    "    (objectives_trainRNN,measurements_trainRNN)=generateSequence(T_trainRNN,generatorType,numberSamples=numberSamples_trainRNN)\n",
    "    sigmas_trainRNN=randomSigma(T_trainRNN,numberSamples=numberSamples_trainRNN,p0=1-threshold/windowSize)\n",
    "    measurements_corrupted_trainRNN=corruptSequence_outOfRange(measurements_trainRNN,sigmas_trainRNN)\n",
    "    \n",
    "    # new\n",
    "    inputRNN=np.concatenate((np.expand_dims(sigmas_trainRNN,2),measurements_corrupted_trainRNN),axis=2)\n",
    "    \n",
    "    n_dim_meas=np.shape(measurements_corrupted_trainRNN)[2]\n",
    "    n_dim_obj=np.shape(objectives_trainRNN)[2]\n",
    "\n",
    "    model=Sequential()\n",
    "    model.add(LSTM(20,input_shape=(None,n_dim_meas+1),return_sequences=True))\n",
    "    model.add(LSTM(20,return_sequences=True))\n",
    "    model.add(Dense(n_dim_obj,activation=None))\n",
    "\n",
    "    model.compile(optimizer='adam',loss='mean_squared_error')\n",
    "    model.summary()\n",
    "\n",
    "    # train the RNN\n",
    "    n_epochs_RNN=20\n",
    "    history=model.fit(x=inputRNN,y=objectives_trainRNN,batch_size=1,epochs=n_epochs_RNN,validation_split=0.2,verbose=2)\n",
    "\n",
    "    # plot loss\n",
    "    plotRNNresults(history)\n",
    "    \n",
    "    idx_sample=0\n",
    "    estimates_trainRNN=model.predict(inputRNN)\n",
    "    plotExperiment(objectives_trainRNN, estimates_trainRNN, sigmas_trainRNN,idx_sample=idx_sample)\n",
    "print('Done')"
   ]
  },
  {
   "cell_type": "code",
   "execution_count": 5,
   "metadata": {},
   "outputs": [
    {
     "name": "stdout",
     "output_type": "stream",
     "text": [
      "Kalman estimator\n",
      "  observationsDimensions: [(12, 1), (1,), (1,)]\n",
      "  seeAction= False\n",
      "  seeMeasurement= True\n",
      "  seeEstimate= False\n",
      "  seeTime= True\n",
      "  seeCovariance= False\n",
      "  seeSumAction= True\n"
     ]
    }
   ],
   "source": [
    "# construct estimator\n",
    "if estimatorType=='rnn':\n",
    "    estimator=RnnEstimator(T,windowSize,threshold,model,generatorType,seeAction=seeAction,seeMeasurement=seeMeasurement,seeEstimate=seeEstimate,seeTime=seeTime,seeSumAction=seeSumAction)\n",
    "elif estimatorType=='particle':\n",
    "    estimator=ParticleFilterEstimator(T,windowSize,threshold,generatorType,seeAction=seeAction,seeMeasurement=seeMeasurement,seeEstimate=seeEstimate,seeTime=seeTime,seeSumAction=seeSumAction)\n",
    "elif estimatorType=='kalman':\n",
    "    estimator=KalmanEstimator(T,windowSize,threshold,seeAction=seeAction,seeMeasurement=seeMeasurement,seeEstimate=seeEstimate,seeTime=seeTime,seeSumAction=seeSumAction)\n",
    "else:\n",
    "    print('ERROR: no valid estimatorType')\n",
    "    \n",
    "estimator.summarize()"
   ]
  },
  {
   "cell_type": "code",
   "execution_count": 6,
   "metadata": {},
   "outputs": [
    {
     "name": "stdout",
     "output_type": "stream",
     "text": [
      "Threshold rewarder\n",
      "  window size: 13\n",
      "  threshold: 4\n",
      "  cost: 50\n",
      "  number of measures in the window: 0\n"
     ]
    }
   ],
   "source": [
    "# contruct rewarder\n",
    "rewarder=ThresholdRewarder(threshold=threshold, cost=cost, windowSize=windowSize)\n",
    "rewarder.summarize()"
   ]
  },
  {
   "cell_type": "code",
   "execution_count": 7,
   "metadata": {},
   "outputs": [
    {
     "name": "stdout",
     "output_type": "stream",
     "text": [
      "No new data generated\n",
      "shape training objectives: (50, 13, 1)\n",
      "shape training measurements: (50, 13, 1)\n",
      "shape validating objectives: (50, 13, 1)\n",
      "shape validating measurements: (50, 13, 1)\n"
     ]
    }
   ],
   "source": [
    "# generate sequences for training and validating the agent\n",
    "numberSamples_train=50\n",
    "T_train=T\n",
    "\n",
    "numberSamples_valid=numberSamples_train\n",
    "T_valid=T_train\n",
    "\n",
    "if workspace_path is None: # data have not been loaded\n",
    "    (objectives_train,measurements_train)=estimator.generateSequence(T_train,numberSamples=numberSamples_train)\n",
    "    (objectives_valid,measurements_valid)=estimator.generateSequence(T_valid,numberSamples=numberSamples_valid)\n",
    "    print('New data generated')\n",
    "else:\n",
    "    print('No new data generated')\n",
    "\n",
    "#print('----- TO REMOVE -----')\n",
    "#objectives_valid = objectives_train\n",
    "#measurements_valid = measurements_train\n",
    "\n",
    "print('shape training objectives:',np.shape(objectives_train))\n",
    "print('shape training measurements:',np.shape(measurements_train))\n",
    "print('shape validating objectives:',np.shape(objectives_valid))\n",
    "print('shape validating measurements:',np.shape(measurements_valid))"
   ]
  },
  {
   "cell_type": "code",
   "execution_count": 8,
   "metadata": {},
   "outputs": [
    {
     "name": "stdout",
     "output_type": "stream",
     "text": [
      "Environment parameters\n",
      "  inputDimensions= [(12, 1), (1,), (1,)]\n",
      "Sequences parameters\n",
      "  outOfRangeValue= -1\n",
      "  n_dim_obj= 1\n",
      "  n_dim_meas= 1\n",
      "  numberSamples_train 50\n",
      "  numberSamples_valid 50\n",
      "Kalman estimator\n",
      "  observationsDimensions: [(12, 1), (1,), (1,)]\n",
      "  seeAction= False\n",
      "  seeMeasurement= True\n",
      "  seeEstimate= False\n",
      "  seeTime= True\n",
      "  seeCovariance= False\n",
      "  seeSumAction= True\n",
      "Threshold rewarder\n",
      "  window size: 13\n",
      "  threshold: 4\n",
      "  cost: 50\n",
      "  number of measures in the window: 0\n",
      "WARNING:tensorflow:From /Users/antoine/anaconda3/lib/python3.6/site-packages/tensorflow/python/framework/op_def_library.py:263: colocate_with (from tensorflow.python.framework.ops) is deprecated and will be removed in a future version.\n",
      "Instructions for updating:\n",
      "Colocations handled automatically by placer.\n",
      "__________________________________________________________________________________________________\n",
      "Layer (type)                    Output Shape         Param #     Connected to                     \n",
      "==================================================================================================\n",
      "input_1 (InputLayer)            (None, 12, 1)        0                                            \n",
      "__________________________________________________________________________________________________\n",
      "reshape_1 (Reshape)             (None, 12, 1, 1)     0           input_1[0][0]                    \n",
      "__________________________________________________________________________________________________\n",
      "conv2d_1 (Conv2D)               (None, 11, 1, 10)    30          reshape_1[0][0]                  \n",
      "__________________________________________________________________________________________________\n",
      "conv2d_2 (Conv2D)               (None, 10, 1, 10)    210         conv2d_1[0][0]                   \n",
      "__________________________________________________________________________________________________\n",
      "flatten_1 (Flatten)             (None, 100)          0           conv2d_2[0][0]                   \n",
      "__________________________________________________________________________________________________\n",
      "input_2 (InputLayer)            (None, 1)            0                                            \n",
      "__________________________________________________________________________________________________\n",
      "input_3 (InputLayer)            (None, 1)            0                                            \n",
      "__________________________________________________________________________________________________\n",
      "concatenate_1 (Concatenate)     (None, 102)          0           flatten_1[0][0]                  \n",
      "                                                                 input_2[0][0]                    \n",
      "                                                                 input_3[0][0]                    \n",
      "__________________________________________________________________________________________________\n",
      "dense_1 (Dense)                 (None, 50)           5150        concatenate_1[0][0]              \n",
      "__________________________________________________________________________________________________\n",
      "dense_2 (Dense)                 (None, 20)           1020        dense_1[0][0]                    \n",
      "__________________________________________________________________________________________________\n",
      "dense_3 (Dense)                 (None, 2)            42          dense_2[0][0]                    \n",
      "==================================================================================================\n",
      "Total params: 6,452\n",
      "Trainable params: 6,452\n",
      "Non-trainable params: 0\n",
      "__________________________________________________________________________________________________\n",
      "Agent constructed\n"
     ]
    }
   ],
   "source": [
    "# construct agent\n",
    "agent=constructAgent(estimator,rewarder,objectives_train,measurements_train,objectives_valid,measurements_valid)\n",
    "\n",
    "agent._learning_algo.q_vals.summary()\n",
    "\n",
    "print('Agent constructed')"
   ]
  },
  {
   "cell_type": "code",
   "execution_count": 9,
   "metadata": {
    "scrolled": true
   },
   "outputs": [
    {
     "name": "stdout",
     "output_type": "stream",
     "text": [
      "WARNING:tensorflow:From /Users/antoine/anaconda3/lib/python3.6/site-packages/tensorflow/python/ops/math_ops.py:3066: to_int32 (from tensorflow.python.ops.math_ops) is deprecated and will be removed in a future version.\n",
      "Instructions for updating:\n",
      "Use tf.cast instead.\n",
      "Validation epoch running... Done.\n",
      "  Testing score per episode (id: 0) is -453.0501604235987 (average over 50 episode(s))\n",
      "Training epoch 1/2.\n",
      "Validation epoch running... Done.\n",
      "  Testing score per episode (id: 0) is -17.533792303133538 (average over 50 episode(s))\n",
      "Training epoch 2/2.\n",
      "Agent Trained (in 16.002790689468384 seconds)\n"
     ]
    }
   ],
   "source": [
    "# Train agent\n",
    "n_epochs_agent=2\n",
    "\n",
    "agent.resumeTrainingMode() # not required\n",
    "\n",
    "start_time = time.time()\n",
    "agent.run(n_epochs=n_epochs_agent, epoch_length=numberSamples_train*T_train)\n",
    "elapsed_time = time.time() - start_time\n",
    "\n",
    "cumulatedRewards_valid=agent._controllers[-1].rewards # interleavedValidEpochController is the last controller.\n",
    "print('Agent Trained (in',elapsed_time,'seconds)')"
   ]
  },
  {
   "cell_type": "code",
   "execution_count": 10,
   "metadata": {},
   "outputs": [
    {
     "data": {
      "image/png": "[encoded data removed]",
      "text/plain": [
       "<Figure size 432x288 with 1 Axes>"
      ]
     },
     "metadata": {
      "needs_background": "light"
     },
     "output_type": "display_data"
    },
    {
     "name": "stdout",
     "output_type": "stream",
     "text": [
      "meanReward_valid:  -17.533792303133538\n"
     ]
    },
    {
     "name": "stderr",
     "output_type": "stream",
     "text": [
      "/Users/antoine/anaconda3/lib/python3.6/site-packages/pandas/plotting/_tools.py:308: MatplotlibDeprecationWarning: \n",
      "The rowNum attribute was deprecated in Matplotlib 3.2 and will be removed two minor releases later. Use ax.get_subplotspec().rowspan.start instead.\n",
      "  layout[ax.rowNum, ax.colNum] = ax.get_visible()\n",
      "/Users/antoine/anaconda3/lib/python3.6/site-packages/pandas/plotting/_tools.py:308: MatplotlibDeprecationWarning: \n",
      "The colNum attribute was deprecated in Matplotlib 3.2 and will be removed two minor releases later. Use ax.get_subplotspec().colspan.start instead.\n",
      "  layout[ax.rowNum, ax.colNum] = ax.get_visible()\n",
      "/Users/antoine/anaconda3/lib/python3.6/site-packages/pandas/plotting/_tools.py:314: MatplotlibDeprecationWarning: \n",
      "The rowNum attribute was deprecated in Matplotlib 3.2 and will be removed two minor releases later. Use ax.get_subplotspec().rowspan.start instead.\n",
      "  if not layout[ax.rowNum + 1, ax.colNum]:\n",
      "/Users/antoine/anaconda3/lib/python3.6/site-packages/pandas/plotting/_tools.py:314: MatplotlibDeprecationWarning: \n",
      "The colNum attribute was deprecated in Matplotlib 3.2 and will be removed two minor releases later. Use ax.get_subplotspec().colspan.start instead.\n",
      "  if not layout[ax.rowNum + 1, ax.colNum]:\n"
     ]
    },
    {
     "data": {
      "image/png": "[encoded data removed]",
      "text/plain": [
       "<Figure size 432x288 with 3 Axes>"
      ]
     },
     "metadata": {
      "needs_background": "light"
     },
     "output_type": "display_data"
    }
   ],
   "source": [
    "# plot validation\n",
    "#boxplotCumulatedRewards(cumulatedRewards_valid)\n",
    "plotAllCumulatedRewards(cumulatedRewards_valid)\n",
    "allHistoCumulatedRewards(cumulatedRewards_valid)\n",
    "\n",
    "meanReward_valid=np.mean(cumulatedRewards_valid[-1])\n",
    "print('meanReward_valid: ',meanReward_valid)"
   ]
  },
  {
   "cell_type": "code",
   "execution_count": 11,
   "metadata": {
    "scrolled": true
   },
   "outputs": [
    {
     "name": "stdout",
     "output_type": "stream",
     "text": [
      "No new data generated\n",
      "Test results computed\n"
     ]
    }
   ],
   "source": [
    "# generate test data\n",
    "numberSamples_test=numberSamples_train\n",
    "T_test=T\n",
    "    \n",
    "if workspace_path is None: # data have not been loaded\n",
    "    (objectives_test,measurements_test)=estimator.generateSequence(T_test,numberSamples=numberSamples_test)\n",
    "    print('New data generated')\n",
    "else:\n",
    "    print('No new data generated')\n",
    "\n",
    "#print('----- TO REMOVE -----')\n",
    "#objectives_test = objectives_train\n",
    "#measurements_test = measurements_train\n",
    "\n",
    "\n",
    "# Results of the inference on test data\n",
    "(sigmas_test,rewards_test,estimates_test)=agentInference(agent,objectives_test,measurements_test)\n",
    "print('Test results computed')"
   ]
  },
  {
   "cell_type": "code",
   "execution_count": 12,
   "metadata": {
    "scrolled": false
   },
   "outputs": [
    {
     "data": {
      "image/png": "[encoded data removed]",
      "text/plain": [
       "<Figure size 432x288 with 1 Axes>"
      ]
     },
     "metadata": {
      "needs_background": "light"
     },
     "output_type": "display_data"
    },
    {
     "name": "stdout",
     "output_type": "stream",
     "text": [
      "T: 13\n"
     ]
    },
    {
     "data": {
      "image/png": "[encoded data removed]",
      "text/plain": [
       "<Figure size 432x288 with 1 Axes>"
      ]
     },
     "metadata": {
      "needs_background": "light"
     },
     "output_type": "display_data"
    },
    {
     "data": {
      "image/png": "[encoded data removed]",
      "text/plain": [
       "<Figure size 432x288 with 1 Axes>"
      ]
     },
     "metadata": {
      "needs_background": "light"
     },
     "output_type": "display_data"
    },
    {
     "data": {
      "image/png": "[encoded data removed]",
      "text/plain": [
       "<Figure size 432x288 with 1 Axes>"
      ]
     },
     "metadata": {
      "needs_background": "light"
     },
     "output_type": "display_data"
    },
    {
     "name": "stdout",
     "output_type": "stream",
     "text": [
      "meanReward_test:  -0.5184494012308601\n",
      "sumSigmas_test [2. 2. 1. 1. 2. 1. 2. 1. 1. 2. 1. 2. 3. 2. 1. 2. 1. 1. 2. 1. 2. 2. 2. 3.\n",
      " 1. 1. 1. 2. 2. 1. 2. 1. 1. 1. 2. 2. 2. 1. 2. 2. 3. 1. 2. 1. 2. 1. 1. 1.\n",
      " 3. 1.]\n"
     ]
    }
   ],
   "source": [
    "# plot test\n",
    "idx_sample=0\n",
    "#plotExperiment(objectives_test,estimates_test,sigmas_test,idx_sample=idx_sample)\n",
    "freqSigmas(sigmas_test)\n",
    "boxplotErrors(objectives_test,estimates_test)\n",
    "#plotAllErrors(objectives_test,estimates_test)\n",
    "boxplotRewards(rewards_test)\n",
    "#plotAllRewards(rewards_test)\n",
    "histoCumulatedRewards(rewards_test)\n",
    "\n",
    "meanReward_test=np.mean(rewards_test)\n",
    "print('meanReward_test: ',meanReward_test)\n",
    "\n",
    "sumSigmas_test=np.sum(sigmas_test,axis=1)\n",
    "print('sumSigmas_test',sumSigmas_test)"
   ]
  },
  {
   "cell_type": "code",
   "execution_count": 13,
   "metadata": {},
   "outputs": [
    {
     "name": "stdout",
     "output_type": "stream",
     "text": [
      "Done.\n"
     ]
    }
   ],
   "source": [
    "# regular run on test data (default case without agent)\n",
    "numberMeasurements=int(np.ceil(threshold/windowSize*T))\n",
    "\n",
    "# compute regular sigma (with same dim than validation data)\n",
    "sigmas_regular=regularSigma(T_valid,numberMeasurements,numberSamples=numberSamples_test)\n",
    "\n",
    "(rewards_regular, estimates_regular)=agentForcedInference(agent, sigmas_regular)\n",
    "print('Done.')"
   ]
  },
  {
   "cell_type": "code",
   "execution_count": 14,
   "metadata": {},
   "outputs": [
    {
     "data": {
      "image/png": "[encoded data removed]",
      "text/plain": [
       "<Figure size 432x288 with 1 Axes>"
      ]
     },
     "metadata": {
      "needs_background": "light"
     },
     "output_type": "display_data"
    },
    {
     "name": "stdout",
     "output_type": "stream",
     "text": [
      "T: 13\n"
     ]
    },
    {
     "data": {
      "image/png": "[encoded data removed]",
      "text/plain": [
       "<Figure size 432x288 with 1 Axes>"
      ]
     },
     "metadata": {
      "needs_background": "light"
     },
     "output_type": "display_data"
    },
    {
     "data": {
      "image/png": "[encoded data removed]",
      "text/plain": [
       "<Figure size 432x288 with 1 Axes>"
      ]
     },
     "metadata": {
      "needs_background": "light"
     },
     "output_type": "display_data"
    },
    {
     "data": {
      "image/png": "[encoded data removed]",
      "text/plain": [
       "<Figure size 432x288 with 1 Axes>"
      ]
     },
     "metadata": {
      "needs_background": "light"
     },
     "output_type": "display_data"
    },
    {
     "name": "stdout",
     "output_type": "stream",
     "text": [
      "meanReward_regular:  -0.4816050178943067\n"
     ]
    }
   ],
   "source": [
    "# plot test regular\n",
    "idx_sample=5\n",
    "#plotExperiment(objectives_test,estimates_test,sigmas_test,idx_sample=idx_sample)\n",
    "freqSigmas(sigmas_regular)\n",
    "boxplotErrors(objectives_test,estimates_regular)\n",
    "#plotAllErrors(objectives_test,estimates_regular)\n",
    "boxplotRewards(rewards_regular)\n",
    "#plotAllRewards(rewards_regular)\n",
    "histoCumulatedRewards(rewards_regular)\n",
    "meanReward_regular=np.mean(rewards_regular)\n",
    "print('meanReward_regular: ',meanReward_regular)"
   ]
  },
  {
   "cell_type": "code",
   "execution_count": 15,
   "metadata": {},
   "outputs": [
    {
     "name": "stdout",
     "output_type": "stream",
     "text": [
      "estimatorType\n",
      "seeAction\n",
      "seeMeasurement\n",
      "seeEstimate\n",
      "seeTime\n",
      "seeSumAction\n",
      "T\n",
      "threshold\n",
      "windowSize\n",
      "cost\n",
      "numberSamples_train\n",
      "T_train\n",
      "numberSamples_valid\n",
      "T_valid\n",
      "objectives_train\n",
      "measurements_train\n",
      "objectives_valid\n",
      "measurements_valid\n",
      "n_epochs_agent\n",
      "cumulatedRewards_valid\n",
      "meanReward_valid\n",
      "numberSamples_test\n",
      "T_test\n",
      "objectives_test\n",
      "measurements_test\n",
      "sigmas_test\n",
      "rewards_test\n",
      "estimates_test\n",
      "meanReward_test\n",
      "sumSigmas_test\n",
      "numberMeasurements\n",
      "sigmas_regular\n",
      "rewards_regular\n",
      "estimates_regular\n",
      "meanReward_regular\n"
     ]
    }
   ],
   "source": [
    "toSave=[\"estimatorType\",\"seeAction\",\"seeMeasurement\",\"seeEstimate\",\"seeTime\",\"seeSumAction\",\"T\",\"threshold\",\"windowSize\",\"cost\"]\n",
    "if estimatorType=='rnn':\n",
    "    toSave.extend([\"numberSamples_trainRNN\",\"T_trainRNN\",\"generatorType\",\"objectives_trainRNN\",\"measurements_trainRNN\",\"n_epochs_RNN\",\"model\",\"history\",\"estimates_trainRNN\"])\n",
    "#toSave.extend([\"estimator\",\"rewarder\"])\n",
    "toSave.extend([\"numberSamples_train\",\"T_train\",\"numberSamples_valid\",\"T_valid\",\"objectives_train\",\"measurements_train\",\"objectives_valid\",\"measurements_valid\"])\n",
    "toSave.extend([\"n_epochs_agent\"])\n",
    "toSave.extend([\"cumulatedRewards_valid\",\"meanReward_valid\"])\n",
    "toSave.extend([\"numberSamples_test\",\"T_test\",\"objectives_test\",\"measurements_test\",\"sigmas_test\",\"rewards_test\",\"estimates_test\"])\n",
    "toSave.extend([\"meanReward_test\",\"sumSigmas_test\"])\n",
    "toSave.extend([\"numberMeasurements\",\"sigmas_regular\",\"rewards_regular\",\"estimates_regular\",\"meanReward_regular\"])\n",
    "save_workspace('workspaces/',toSave,globals())"
   ]
  },
  {
   "cell_type": "code",
   "execution_count": 17,
   "metadata": {},
   "outputs": [],
   "source": [
    "#import os\n",
    "#os.system(\"say Au travail faignant.\")"
   ]
  },
  {
   "cell_type": "code",
   "execution_count": 18,
   "metadata": {},
   "outputs": [
    {
     "data": {
      "text/plain": [
       "0.9"
      ]
     },
     "execution_count": 18,
     "metadata": {},
     "output_type": "execute_result"
    }
   ],
   "source": [
    "agent.discountFactor()"
   ]
  },
  {
   "cell_type": "code",
   "execution_count": null,
   "metadata": {},
   "outputs": [],
   "source": []
  }
 ],
 "metadata": {
  "kernelspec": {
   "display_name": "Python 3",
   "language": "python",
   "name": "python3"
  },
  "language_info": {
   "codemirror_mode": {
    "name": "ipython",
    "version": 3
   },
   "file_extension": ".py",
   "mimetype": "text/x-python",
   "name": "python",
   "nbconvert_exporter": "python",
   "pygments_lexer": "ipython3",
   "version": "3.6.8"
  }
 },
 "nbformat": 4,
 "nbformat_minor": 4
}
