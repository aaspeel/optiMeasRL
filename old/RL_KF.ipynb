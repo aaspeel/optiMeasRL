{
 "cells": [
  {
   "cell_type": "code",
   "execution_count": 1,
   "metadata": {},
   "outputs": [],
   "source": [
    "#import os\n",
    "#os.environ[\"CUDA_VISIBLE_DEVICES\"]=\"0\"#\"2\""
   ]
  },
  {
   "cell_type": "code",
   "execution_count": 2,
   "metadata": {},
   "outputs": [
    {
     "name": "stderr",
     "output_type": "stream",
     "text": [
      "Using TensorFlow backend.\n",
      "/Users/antoine/anaconda3/lib/python3.6/site-packages/tensorflow/python/framework/dtypes.py:526: FutureWarning: Passing (type, 1) or '1type' as a synonym of type is deprecated; in a future version of numpy, it will be understood as (type, (1,)) / '(1,)type'.\n",
      "  _np_qint8 = np.dtype([(\"qint8\", np.int8, 1)])\n",
      "/Users/antoine/anaconda3/lib/python3.6/site-packages/tensorflow/python/framework/dtypes.py:527: FutureWarning: Passing (type, 1) or '1type' as a synonym of type is deprecated; in a future version of numpy, it will be understood as (type, (1,)) / '(1,)type'.\n",
      "  _np_quint8 = np.dtype([(\"quint8\", np.uint8, 1)])\n",
      "/Users/antoine/anaconda3/lib/python3.6/site-packages/tensorflow/python/framework/dtypes.py:528: FutureWarning: Passing (type, 1) or '1type' as a synonym of type is deprecated; in a future version of numpy, it will be understood as (type, (1,)) / '(1,)type'.\n",
      "  _np_qint16 = np.dtype([(\"qint16\", np.int16, 1)])\n",
      "/Users/antoine/anaconda3/lib/python3.6/site-packages/tensorflow/python/framework/dtypes.py:529: FutureWarning: Passing (type, 1) or '1type' as a synonym of type is deprecated; in a future version of numpy, it will be understood as (type, (1,)) / '(1,)type'.\n",
      "  _np_quint16 = np.dtype([(\"quint16\", np.uint16, 1)])\n",
      "/Users/antoine/anaconda3/lib/python3.6/site-packages/tensorflow/python/framework/dtypes.py:530: FutureWarning: Passing (type, 1) or '1type' as a synonym of type is deprecated; in a future version of numpy, it will be understood as (type, (1,)) / '(1,)type'.\n",
      "  _np_qint32 = np.dtype([(\"qint32\", np.int32, 1)])\n",
      "/Users/antoine/anaconda3/lib/python3.6/site-packages/tensorflow/python/framework/dtypes.py:535: FutureWarning: Passing (type, 1) or '1type' as a synonym of type is deprecated; in a future version of numpy, it will be understood as (type, (1,)) / '(1,)type'.\n",
      "  np_resource = np.dtype([(\"resource\", np.ubyte, 1)])\n"
     ]
    }
   ],
   "source": [
    "# import estimator class\n",
    "from estimators.kalmanEstimator import KalmanEstimator\n",
    "\n",
    "# import rewarder class\n",
    "from rewarders.thresholdRewarder import ThresholdRewarder\n",
    "\n",
    "from matplotlib import pyplot\n",
    "from utils.sequences_treatment import *\n",
    "from utils.agent_treatment import *\n"
   ]
  },
  {
   "cell_type": "code",
   "execution_count": 3,
   "metadata": {},
   "outputs": [
    {
     "name": "stdout",
     "output_type": "stream",
     "text": [
      "No function summarize() implemented in default Estimator class.\n",
      "window size: 4\n",
      "threshold: 2\n",
      "cost: 5000\n",
      "number of measures in the window: 0\n"
     ]
    }
   ],
   "source": [
    "# construct estimator\n",
    "estimator=KalmanEstimator()\n",
    "estimator.summarize()\n",
    "\n",
    "#contruct rewarder\n",
    "rewarder=ThresholdRewarder(threshold=2, cost=5000, windowSize=4)\n",
    "rewarder.summarize()"
   ]
  },
  {
   "cell_type": "code",
   "execution_count": 4,
   "metadata": {},
   "outputs": [
    {
     "name": "stdout",
     "output_type": "stream",
     "text": [
      "shape objectives: (10, 20, 1)\n",
      "shape measurements: (10, 20, 1)\n"
     ]
    }
   ],
   "source": [
    "# generate sequences for training the agent\n",
    "numberSamples=10\n",
    "T=20\n",
    "\n",
    "(objectives,measurements)=estimator.generateSequence(T,numberSamples=numberSamples)\n",
    "\n",
    "print('shape objectives:',np.shape(objectives))\n",
    "print('shape measurements:',np.shape(measurements))"
   ]
  },
  {
   "cell_type": "code",
   "execution_count": 5,
   "metadata": {},
   "outputs": [
    {
     "name": "stdout",
     "output_type": "stream",
     "text": [
      "Environment parameters\n",
      "  REWARDER= <rewarders.thresholdRewarder.ThresholdRewarder object at 0x10e52a780>\n",
      "  inputDimensions= [(5,), (5, 1)]\n",
      "Sequences parameters\n",
      "  outOfRangeValue= -1\n",
      "  numerSamples= 10\n",
      "  n_dim_obj= 1\n",
      "  n_dim_meas= 1\n",
      "WARNING:tensorflow:From /Users/antoine/anaconda3/lib/python3.6/site-packages/tensorflow/python/framework/op_def_library.py:263: colocate_with (from tensorflow.python.framework.ops) is deprecated and will be removed in a future version.\n",
      "Instructions for updating:\n",
      "Colocations handled automatically by placer.\n",
      "Agent constructed\n"
     ]
    }
   ],
   "source": [
    "# construct agent\n",
    "agent=constructAgent(estimator,rewarder,objectives,measurements)\n",
    "print('Agent constructed')"
   ]
  },
  {
   "cell_type": "code",
   "execution_count": 6,
   "metadata": {
    "scrolled": true
   },
   "outputs": [
    {
     "name": "stderr",
     "output_type": "stream",
     "text": [
      "/Users/antoine/Desktop/optiMeasRL-main/optimalIntermittency.py:253: VisibleDeprecationWarning: Creating an ndarray from ragged nested sequences (which is a list-or-tuple of lists-or-tuples-or ndarrays with different lengths or shapes) is deprecated. If you meant to do this, you must specify 'dtype=object' when creating the ndarray\n",
      "  return np.array(self._last_ponctual_observation)\n"
     ]
    },
    {
     "name": "stdout",
     "output_type": "stream",
     "text": [
      "WARNING:tensorflow:From /Users/antoine/anaconda3/lib/python3.6/site-packages/tensorflow/python/ops/math_ops.py:3066: to_int32 (from tensorflow.python.ops.math_ops) is deprecated and will be removed in a future version.\n",
      "Instructions for updating:\n",
      "Use tf.cast instead.\n",
      "Average (on the epoch) training loss: 1490.93017578125\n",
      "Episode average V value: -39.74930191040039\n",
      "Average (on the epoch) training loss: 1340.1845703125\n",
      "Episode average V value: -138.3019811630249\n",
      "Average (on the epoch) training loss: 1163.5777587890625\n",
      "Episode average V value: -168.51759338378906\n",
      "Average (on the epoch) training loss: 1037.6279296875\n",
      "Episode average V value: -208.9569797515869\n",
      "Average (on the epoch) training loss: 967.6288452148438\n",
      "Episode average V value: -300.31189346313477\n",
      "Average (on the epoch) training loss: 1096.4063720703125\n",
      "Episode average V value: -1066.0976943969727\n",
      "Average (on the epoch) training loss: 1166.332763671875\n",
      "Episode average V value: -550.184171923995\n",
      "Average (on the epoch) training loss: 1258.1009521484375\n",
      "Episode average V value: -1017.1419296264648\n",
      "Average (on the epoch) training loss: 1298.40576171875\n",
      "Episode average V value: -1401.2418212890625\n",
      "Average (on the epoch) training loss: 1334.0367431640625\n",
      "Episode average V value: -1424.0098999023437\n",
      "epoch 1:\n",
      "Learning rate: 0.005\n",
      "Discount factor: 0.9\n",
      "Epsilon: 0.1\n",
      "epoch 2:\n",
      "Learning rate: 0.005\n",
      "Discount factor: 0.9\n",
      "Epsilon: 0.1\n",
      "Average (on the epoch) training loss: 1526.313232421875\n",
      "Episode average V value: -1559.508544921875\n",
      "Average (on the epoch) training loss: 1598.0380859375\n",
      "Episode average V value: -1514.9683837890625\n",
      "Average (on the epoch) training loss: 1672.846923828125\n",
      "Episode average V value: -1412.1267807006836\n",
      "Average (on the epoch) training loss: 1673.633544921875\n",
      "Episode average V value: -1486.7762451171875\n",
      "Average (on the epoch) training loss: 1672.373291015625\n",
      "Episode average V value: -1413.4014892578125\n",
      "Average (on the epoch) training loss: 1651.0604248046875\n",
      "Episode average V value: -1316.2978271484376\n",
      "Average (on the epoch) training loss: 1625.487548828125\n",
      "Episode average V value: -999.0791595458984\n",
      "Average (on the epoch) training loss: 1585.2529296875\n",
      "Episode average V value: -806.0498672485352\n",
      "Average (on the epoch) training loss: 1564.8565673828125\n",
      "Episode average V value: -1152.4471862792968\n",
      "Average (on the epoch) training loss: 1526.588134765625\n",
      "Episode average V value: -884.8604278564453\n",
      "epoch 3:\n",
      "Learning rate: 0.005\n",
      "Discount factor: 0.9\n",
      "Epsilon: 0.1\n",
      "epoch 4:\n",
      "Learning rate: 0.005\n",
      "Discount factor: 0.9\n",
      "Epsilon: 0.1\n",
      "Average (on the epoch) training loss: 1808.4000244140625\n",
      "Episode average V value: -1160.4403816223144\n",
      "Average (on the epoch) training loss: 1642.956298828125\n",
      "Episode average V value: -950.5091572761536\n",
      "Average (on the epoch) training loss: 1593.3604736328125\n",
      "Episode average V value: -558.1808008670807\n",
      "Average (on the epoch) training loss: 1552.3306884765625\n",
      "Episode average V value: -926.2370082855225\n",
      "Average (on the epoch) training loss: 1497.65576171875\n",
      "Episode average V value: -713.2473808288574\n",
      "Average (on the epoch) training loss: 1476.76953125\n",
      "Episode average V value: -800.5684127807617\n",
      "Average (on the epoch) training loss: 1427.96240234375\n",
      "Episode average V value: -987.49462890625\n",
      "Average (on the epoch) training loss: 1411.0843505859375\n",
      "Episode average V value: -728.5310375213624\n",
      "Average (on the epoch) training loss: 1407.4088134765625\n",
      "Episode average V value: -600.9485433478104\n",
      "Average (on the epoch) training loss: 1384.348388671875\n",
      "Episode average V value: -827.7638080596923\n",
      "epoch 5:\n",
      "Learning rate: 0.005\n",
      "Discount factor: 0.9\n",
      "Epsilon: 0.1\n",
      "epoch 6:\n",
      "Learning rate: 0.005\n",
      "Discount factor: 0.9\n",
      "Epsilon: 0.1\n",
      "Average (on the epoch) training loss: 1453.707275390625\n",
      "Episode average V value: -780.4622531890869\n",
      "Average (on the epoch) training loss: 1333.153564453125\n",
      "Episode average V value: -504.4675132751465\n",
      "Average (on the epoch) training loss: 1260.975341796875\n",
      "Episode average V value: -576.4967209665399\n",
      "Average (on the epoch) training loss: 1256.9730224609375\n",
      "Episode average V value: -363.2138977050781\n",
      "Average (on the epoch) training loss: 1240.9835205078125\n",
      "Episode average V value: -286.05311584472656\n",
      "Average (on the epoch) training loss: 1205.042236328125\n",
      "Episode average V value: -454.18896484375\n",
      "Average (on the epoch) training loss: 1199.2896728515625\n",
      "Episode average V value: -540.8290496826172\n",
      "Average (on the epoch) training loss: 1217.8505859375\n",
      "Episode average V value: -554.3557350873947\n",
      "Average (on the epoch) training loss: 1218.452392578125\n",
      "Episode average V value: -362.4423309326172\n",
      "Average (on the epoch) training loss: 1208.897705078125\n",
      "Episode average V value: -338.9916847229004\n",
      "epoch 7:\n",
      "Learning rate: 0.005\n",
      "Discount factor: 0.9\n",
      "Epsilon: 0.1\n",
      "epoch 8:\n",
      "Learning rate: 0.005\n",
      "Discount factor: 0.9\n",
      "Epsilon: 0.1\n",
      "Agent Trained\n"
     ]
    }
   ],
   "source": [
    "# Train the agent\n",
    "agent.run(n_epochs=4, epoch_length=numberSamples*T)\n",
    "print('Agent Trained')"
   ]
  },
  {
   "cell_type": "code",
   "execution_count": 7,
   "metadata": {
    "scrolled": true
   },
   "outputs": [
    {
     "name": "stdout",
     "output_type": "stream",
     "text": [
      "Inference start\n",
      "Average (on the epoch) training loss: 1155.85498046875\n",
      "Episode average V value: -455.5203552246094\n",
      "Average (on the epoch) training loss: 1164.1802978515625\n",
      "Episode average V value: -278.77203369140625\n",
      "Average (on the epoch) training loss: 1173.055908203125\n",
      "Episode average V value: -377.3578186035156\n",
      "Average (on the epoch) training loss: 1132.035888671875\n",
      "Episode average V value: -339.0025329589844\n",
      "Average (on the epoch) training loss: 1115.72119140625\n",
      "Episode average V value: -287.09405517578125\n",
      "Average (on the epoch) training loss: 1119.9971923828125\n",
      "Episode average V value: -201.2845001220703\n",
      "Average (on the epoch) training loss: 1153.92236328125\n",
      "Episode average V value: -318.1994934082031\n",
      "Average (on the epoch) training loss: 1147.471923828125\n",
      "Episode average V value: -187.64028930664062\n",
      "Average (on the epoch) training loss: 1151.2822265625\n",
      "Episode average V value: -305.5784912109375\n",
      "Average (on the epoch) training loss: 1145.926025390625\n",
      "Episode average V value: -395.9317321777344\n",
      "epoch 1:\n",
      "Learning rate: 0.005\n",
      "Discount factor: 0.9\n",
      "Epsilon: 0.1\n",
      "epoch 2:\n",
      "Learning rate: 0.005\n",
      "Discount factor: 0.9\n",
      "Epsilon: 0.1\n",
      "Average (on the epoch) training loss: 1039.6131591796875\n",
      "Episode average V value: -486.1946738004684\n",
      "Average (on the epoch) training loss: 1083.983154296875\n",
      "Episode average V value: -448.45795280054995\n",
      "Average (on the epoch) training loss: 1060.181396484375\n",
      "Episode average V value: -417.6408863067627\n",
      "Average (on the epoch) training loss: 1095.452880859375\n",
      "Episode average V value: -567.198624420166\n",
      "Average (on the epoch) training loss: 1100.2889404296875\n",
      "Episode average V value: -232.48013496398926\n",
      "Average (on the epoch) training loss: 1070.1795654296875\n",
      "Episode average V value: -354.4942441940308\n",
      "Average (on the epoch) training loss: 1047.73583984375\n",
      "Episode average V value: -251.94128382205963\n",
      "Average (on the epoch) training loss: 1036.6566162109375\n",
      "Episode average V value: -359.88877182006837\n",
      "Average (on the epoch) training loss: 1053.889892578125\n",
      "Episode average V value: -441.9249500274658\n",
      "Average (on the epoch) training loss: 1056.8865966796875\n",
      "Episode average V value: -259.47627277374266\n",
      "epoch 3:\n",
      "Learning rate: 0.005\n",
      "Discount factor: 0.9\n",
      "Epsilon: 0.1\n",
      "epoch 4:\n",
      "Learning rate: 0.005\n",
      "Discount factor: 0.9\n",
      "Epsilon: 0.1\n",
      "Inference end\n"
     ]
    }
   ],
   "source": [
    "# generate test data\n",
    "(objectives_test,measurements_test)=estimator.generateSequence(T,numberSamples=numberSamples)\n",
    "\n",
    "# Results of the inference on test data\n",
    "(testResults_sigmas,testResults_rewards,testResults_estimates)=agentInference(agent,objectives_test,measurements_test)"
   ]
  },
  {
   "cell_type": "code",
   "execution_count": 8,
   "metadata": {},
   "outputs": [
    {
     "data": {
      "image/png": "[encoded data removed]",
      "text/plain": [
       "<Figure size 432x288 with 1 Axes>"
      ]
     },
     "metadata": {
      "needs_background": "light"
     },
     "output_type": "display_data"
    },
    {
     "data": {
      "image/png": "[encoded data removed]",
      "text/plain": [
       "<Figure size 432x288 with 1 Axes>"
      ]
     },
     "metadata": {
      "needs_background": "light"
     },
     "output_type": "display_data"
    }
   ],
   "source": [
    "plotErrors(objectives_test,testResults_estimates,testResults_sigmas,idx_sample=4)"
   ]
  },
  {
   "cell_type": "code",
   "execution_count": null,
   "metadata": {},
   "outputs": [],
   "source": []
  },
  {
   "cell_type": "code",
   "execution_count": null,
   "metadata": {},
   "outputs": [],
   "source": []
  }
 ],
 "metadata": {
  "kernelspec": {
   "display_name": "Python 3",
   "language": "python",
   "name": "python3"
  },
  "language_info": {
   "codemirror_mode": {
    "name": "ipython",
    "version": 3
   },
   "file_extension": ".py",
   "mimetype": "text/x-python",
   "name": "python",
   "nbconvert_exporter": "python",
   "pygments_lexer": "ipython3",
   "version": "3.6.8"
  }
 },
 "nbformat": 4,
 "nbformat_minor": 4
}
